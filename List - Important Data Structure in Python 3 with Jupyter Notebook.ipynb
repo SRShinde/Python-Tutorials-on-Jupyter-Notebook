{
 "cells": [
  {
   "cell_type": "markdown",
   "metadata": {},
   "source": [
    "# List Operations in Python 3 | Python Tutorials on Data Structures"
   ]
  },
  {
   "cell_type": "code",
   "execution_count": 2,
   "metadata": {},
   "outputs": [],
   "source": [
    "#Author: https://www.linkedin.com/in/sanketshindepune/"
   ]
  },
  {
   "cell_type": "code",
   "execution_count": 3,
   "metadata": {},
   "outputs": [],
   "source": [
    "#Important Categories of Data Structures in Python 3 "
   ]
  },
  {
   "cell_type": "markdown",
   "metadata": {},
   "source": [
    "# Creation of List in Python 3"
   ]
  },
  {
   "cell_type": "code",
   "execution_count": 4,
   "metadata": {},
   "outputs": [],
   "source": [
    "#List Definition"
   ]
  },
  {
   "cell_type": "code",
   "execution_count": 7,
   "metadata": {},
   "outputs": [
    {
     "name": "stdout",
     "output_type": "stream",
     "text": [
      "[3, 4, 5] <class 'list'>\n"
     ]
    }
   ],
   "source": [
    "i=[3,4,5]                # list can store heterogenous type of data it means combination of numeric/char\n",
    "print(i,type(i))"
   ]
  },
  {
   "cell_type": "code",
   "execution_count": 31,
   "metadata": {},
   "outputs": [
    {
     "name": "stdout",
     "output_type": "stream",
     "text": [
      "[3, 'rg', 5] <class 'list'>\n"
     ]
    }
   ],
   "source": [
    "i=[3,\"rg\",5]                # put elements, separated by commas, in pair of square-brackets\n",
    "print(i,type(i))"
   ]
  },
  {
   "cell_type": "code",
   "execution_count": 9,
   "metadata": {},
   "outputs": [
    {
     "name": "stdout",
     "output_type": "stream",
     "text": [
      "[3, 4, 5, 9.78, 'ty', 15] <class 'list'>\n"
     ]
    }
   ],
   "source": [
    "i=[3,4,5,9.78,'ty',7+8]# list can store heterogenous type of data it means combination of numeric/char\n",
    "print(i,type(i))"
   ]
  },
  {
   "cell_type": "code",
   "execution_count": 131,
   "metadata": {},
   "outputs": [
    {
     "name": "stdout",
     "output_type": "stream",
     "text": [
      "[1, 2, 4, 8, 16, 32, 64, 128, 256, 512]\n"
     ]
    }
   ],
   "source": [
    "num = [2 ** z for z in range(10)] # x  ranges from 0 to 9\n",
    "\n",
    "print(num)"
   ]
  },
  {
   "cell_type": "code",
   "execution_count": 10,
   "metadata": {
    "scrolled": true
   },
   "outputs": [
    {
     "name": "stdout",
     "output_type": "stream",
     "text": [
      "[3, 2, 1.6666666666666667, 'strnew'] <class 'list'>\n"
     ]
    }
   ],
   "source": [
    "i=[3,4-2,5/3,\"str\"+\"new\"]   # list can store heterogenous type of data it means combination of numeric/char\n",
    "print(i,type(i))"
   ]
  },
  {
   "cell_type": "code",
   "execution_count": 13,
   "metadata": {},
   "outputs": [
    {
     "name": "stdout",
     "output_type": "stream",
     "text": [
      "['gt', 44, 78]\n",
      "['hello', 44, 78]\n"
     ]
    }
   ],
   "source": [
    "#List is mutable in nature\n",
    "list1=[\"gt\",44,78]\n",
    "print(list1)\n",
    "#one can mutate every element in a list ae per their need\n",
    "list1[0]=\"hello\" # i replaced \"gt\" to \"hello\"\n",
    "print(list1)"
   ]
  },
  {
   "cell_type": "code",
   "execution_count": 15,
   "metadata": {},
   "outputs": [
    {
     "ename": "TypeError",
     "evalue": "can only concatenate list (not \"int\") to list",
     "output_type": "error",
     "traceback": [
      "\u001b[1;31m---------------------------------------------------------------------------\u001b[0m",
      "\u001b[1;31mTypeError\u001b[0m                                 Traceback (most recent call last)",
      "\u001b[1;32m<ipython-input-15-e9bab51665b5>\u001b[0m in \u001b[0;36m<module>\u001b[1;34m\u001b[0m\n\u001b[0;32m      1\u001b[0m \u001b[0mlist2\u001b[0m\u001b[1;33m=\u001b[0m \u001b[1;33m[\u001b[0m\u001b[1;36m3\u001b[0m\u001b[1;33m,\u001b[0m\u001b[1;36m4\u001b[0m\u001b[1;33m,\u001b[0m\u001b[1;36m5\u001b[0m\u001b[1;33m]\u001b[0m\u001b[1;33m\u001b[0m\u001b[1;33m\u001b[0m\u001b[0m\n\u001b[1;32m----> 2\u001b[1;33m \u001b[0mlist2\u001b[0m\u001b[1;33m=\u001b[0m\u001b[0mlist2\u001b[0m\u001b[1;33m+\u001b[0m\u001b[1;36m3\u001b[0m  \u001b[1;31m#TypeError: can only concatenate list (not \"int\") to list\u001b[0m\u001b[1;33m\u001b[0m\u001b[1;33m\u001b[0m\u001b[0m\n\u001b[0m",
      "\u001b[1;31mTypeError\u001b[0m: can only concatenate list (not \"int\") to list"
     ]
    }
   ],
   "source": [
    "list2= [3,4,5]\n",
    "list2=list2+3  #TypeError: can only concatenate list (not \"int\") to list"
   ]
  },
  {
   "cell_type": "code",
   "execution_count": 19,
   "metadata": {},
   "outputs": [
    {
     "name": "stdout",
     "output_type": "stream",
     "text": [
      "[4, 5, 7, 5, 6, 7, 'amit']\n"
     ]
    }
   ],
   "source": [
    "#list is dynamic in nature, it means it can be extended\n",
    "lt1=[4,5,7]\n",
    "lt2=[5,6,7,\"amit\"]\n",
    "lt3=lt1+lt2  # symbol '+' will concatenate two lists\n",
    "print(lt3)  "
   ]
  },
  {
   "cell_type": "code",
   "execution_count": 20,
   "metadata": {},
   "outputs": [
    {
     "name": "stdout",
     "output_type": "stream",
     "text": [
      "<class 'list'>\n"
     ]
    }
   ],
   "source": [
    "print(type([4,6,7,99,45]))"
   ]
  },
  {
   "cell_type": "code",
   "execution_count": 22,
   "metadata": {},
   "outputs": [
    {
     "name": "stdout",
     "output_type": "stream",
     "text": [
      "['+', '-', '*', '/']\n"
     ]
    }
   ],
   "source": [
    "list1=['+','-','*','/'] #symbol list\n",
    "print(list1)"
   ]
  },
  {
   "cell_type": "code",
   "execution_count": 23,
   "metadata": {},
   "outputs": [
    {
     "name": "stdout",
     "output_type": "stream",
     "text": [
      "['ab', 'cd', 'ag']\n"
     ]
    }
   ],
   "source": [
    "list2=[\"ab\",'cd',\"a\"+\"g\"]\n",
    "print(list2)"
   ]
  },
  {
   "cell_type": "code",
   "execution_count": 25,
   "metadata": {},
   "outputs": [
    {
     "name": "stdout",
     "output_type": "stream",
     "text": [
      "[] <class 'list'>\n"
     ]
    }
   ],
   "source": [
    "list1=[] #empty list\n",
    "print(list1,type(list1))"
   ]
  },
  {
   "cell_type": "code",
   "execution_count": 28,
   "metadata": {},
   "outputs": [
    {
     "ename": "NameError",
     "evalue": "name 'newl_list' is not defined",
     "output_type": "error",
     "traceback": [
      "\u001b[1;31m---------------------------------------------------------------------------\u001b[0m",
      "\u001b[1;31mNameError\u001b[0m                                 Traceback (most recent call last)",
      "\u001b[1;32m<ipython-input-28-95b5e4e9cd38>\u001b[0m in \u001b[0;36m<module>\u001b[1;34m\u001b[0m\n\u001b[0;32m      1\u001b[0m \u001b[0mnew_list\u001b[0m\u001b[1;33m=\u001b[0m\u001b[1;33m[\u001b[0m\u001b[1;36m1\u001b[0m\u001b[1;33m,\u001b[0m\u001b[1;36m2\u001b[0m\u001b[1;33m,\u001b[0m\u001b[1;36m3\u001b[0m\u001b[1;33m,\u001b[0m\u001b[1;34m\"hello\"\u001b[0m\u001b[1;33m,\u001b[0m\u001b[1;33m[\u001b[0m\u001b[1;36m34\u001b[0m\u001b[1;33m,\u001b[0m\u001b[1;36m56\u001b[0m\u001b[1;33m]\u001b[0m\u001b[1;33m]\u001b[0m\u001b[1;33m\u001b[0m\u001b[1;33m\u001b[0m\u001b[0m\n\u001b[1;32m----> 2\u001b[1;33m \u001b[0mprint\u001b[0m\u001b[1;33m(\u001b[0m\u001b[0mnewl_list\u001b[0m\u001b[1;33m)\u001b[0m  \u001b[1;31m#NameError: name 'newl_list' is not defined\u001b[0m\u001b[1;33m\u001b[0m\u001b[1;33m\u001b[0m\u001b[0m\n\u001b[0m",
      "\u001b[1;31mNameError\u001b[0m: name 'newl_list' is not defined"
     ]
    }
   ],
   "source": [
    "new_list=[1,2,3,\"hello\",[34,56]]\n",
    "print(newl_list)  #NameError: name 'newl_list' is not defined"
   ]
  },
  {
   "cell_type": "code",
   "execution_count": 29,
   "metadata": {},
   "outputs": [
    {
     "name": "stdout",
     "output_type": "stream",
     "text": [
      "[1, 2, 3, 'hello', [34, 56]]\n"
     ]
    }
   ],
   "source": [
    "new_list=[1,2,3,\"hello\",[34,56]]\n",
    "print(new_list)  "
   ]
  },
  {
   "cell_type": "markdown",
   "metadata": {},
   "source": [
    "# How to Access a list with index"
   ]
  },
  {
   "cell_type": "code",
   "execution_count": 36,
   "metadata": {},
   "outputs": [
    {
     "name": "stdout",
     "output_type": "stream",
     "text": [
      "A\n",
      "U\n",
      "E\n",
      "A\n"
     ]
    }
   ],
   "source": [
    "list1=['A','B','C','D','E','U']\n",
    "print(list1[0]) #index of first element, in Python, index starts zero,0\n",
    "print(list1[-1]) # index of last element\n",
    "print(list1[-2]) #index of second last elememt\n",
    "print(list1[-6]) #index of first element"
   ]
  },
  {
   "cell_type": "code",
   "execution_count": 39,
   "metadata": {},
   "outputs": [
    {
     "name": "stdout",
     "output_type": "stream",
     "text": [
      "['A', 'B', 'C', 'D']\n"
     ]
    }
   ],
   "source": [
    "print(list1[0:4]) # print elements at index 0,1,2,3 #skip last index, 4"
   ]
  },
  {
   "cell_type": "code",
   "execution_count": 40,
   "metadata": {},
   "outputs": [
    {
     "name": "stdout",
     "output_type": "stream",
     "text": [
      "['C', 'D']\n"
     ]
    }
   ],
   "source": [
    "print(list1[2:4])"
   ]
  },
  {
   "cell_type": "code",
   "execution_count": 42,
   "metadata": {},
   "outputs": [
    {
     "ename": "TypeError",
     "evalue": "list indices must be integers or slices, not float",
     "output_type": "error",
     "traceback": [
      "\u001b[1;31m---------------------------------------------------------------------------\u001b[0m",
      "\u001b[1;31mTypeError\u001b[0m                                 Traceback (most recent call last)",
      "\u001b[1;32m<ipython-input-42-7a7845ad5270>\u001b[0m in \u001b[0;36m<module>\u001b[1;34m\u001b[0m\n\u001b[1;32m----> 1\u001b[1;33m \u001b[0mprint\u001b[0m\u001b[1;33m(\u001b[0m\u001b[0mlist1\u001b[0m\u001b[1;33m[\u001b[0m\u001b[1;36m1.3\u001b[0m\u001b[1;33m]\u001b[0m\u001b[1;33m)\u001b[0m \u001b[1;31m#TypeError: list indices must be integers or slices, not float\u001b[0m\u001b[1;33m\u001b[0m\u001b[1;33m\u001b[0m\u001b[0m\n\u001b[0m",
      "\u001b[1;31mTypeError\u001b[0m: list indices must be integers or slices, not float"
     ]
    }
   ],
   "source": [
    "print(list1[1.3]) #TypeError: list indices must be integers or slices, not float"
   ]
  },
  {
   "cell_type": "code",
   "execution_count": 51,
   "metadata": {},
   "outputs": [
    {
     "name": "stdout",
     "output_type": "stream",
     "text": [
      "[7, 8, 9]\n",
      "7\n",
      "9\n",
      "[7]\n",
      "9 <class 'int'>\n",
      "[7, 8] <class 'list'>\n"
     ]
    }
   ],
   "source": [
    "list1=[1,3,4,\"hello\",[7,8,9]]\n",
    "print(list1[4])\n",
    "print(list1[4][0])\n",
    "print(list1[4][2])\n",
    "print(list1[4][0:1])\n",
    "print(list1[4][2],type(list1[4][2]))\n",
    "print(list1[4][0:2],type(list1[4][0:2]))"
   ]
  },
  {
   "cell_type": "code",
   "execution_count": 52,
   "metadata": {},
   "outputs": [
    {
     "name": "stdout",
     "output_type": "stream",
     "text": [
      "[1, 3, 4]\n"
     ]
    }
   ],
   "source": [
    "list1=[1,3,4,\"hello\",[7,8,9]]\n",
    "print(list1[0:3])"
   ]
  },
  {
   "cell_type": "code",
   "execution_count": 58,
   "metadata": {},
   "outputs": [
    {
     "name": "stdout",
     "output_type": "stream",
     "text": [
      "[4, 6, 7]\n",
      "[2, 3, 4, 6]\n",
      "[7, 8]\n",
      "[2, 3, 4, 6, 7, 8]\n"
     ]
    }
   ],
   "source": [
    "list1=[2,3,4,6,7,8]\n",
    "# elements 3rd to 5th # skip last index\n",
    "print(list1[2:5])\n",
    "\n",
    "# elements with negative index\n",
    "print(list1[:-2])\n",
    "\n",
    "# elements 5th to end\n",
    "print(list1[4:])\n",
    "\n",
    "# elements beginning to end\n",
    "print(list1[:])"
   ]
  },
  {
   "cell_type": "markdown",
   "metadata": {},
   "source": [
    "# How to add or change elements in a list"
   ]
  },
  {
   "cell_type": "code",
   "execution_count": 60,
   "metadata": {},
   "outputs": [
    {
     "name": "stdout",
     "output_type": "stream",
     "text": [
      "[145, 8, 5, 7, 100]\n",
      "[145, 30, 50, 70, 100]\n"
     ]
    }
   ],
   "source": [
    "rugby=[89,8,5,7,100]\n",
    "\n",
    "rugby[0] = 145            \n",
    "\n",
    "print(rugby)\n",
    "\n",
    "# change 2nd to 4th items\n",
    "rugby[1:4] = [30, 50, 70]\n",
    "\n",
    "print(rugby)"
   ]
  },
  {
   "cell_type": "code",
   "execution_count": 68,
   "metadata": {},
   "outputs": [
    {
     "name": "stdout",
     "output_type": "stream",
     "text": [
      "[89, 8, 5, 7, 100, [67, 78]]\n",
      "[89, 8, 5, 7, 100, [67, 78], 55]\n",
      "[89, 8, 5, 7, 100, [67, 78], 55, 9, 11, 13]\n"
     ]
    }
   ],
   "source": [
    "rugby=[89,8,5,7,100]\n",
    "\n",
    "rugby.append([67,78]) #append function will add elements as a sublist\n",
    "print(rugby)\n",
    "\n",
    "rugby.append(55) #append function will add elements as a sublist\n",
    "print(rugby)\n",
    "\n",
    "rugby.extend([9, 11, 13]) #extend function will add each element as an item\n",
    "print(rugby)"
   ]
  },
  {
   "cell_type": "code",
   "execution_count": 70,
   "metadata": {},
   "outputs": [
    {
     "ename": "TypeError",
     "evalue": "can only concatenate list (not \"int\") to list",
     "output_type": "error",
     "traceback": [
      "\u001b[1;31m---------------------------------------------------------------------------\u001b[0m",
      "\u001b[1;31mTypeError\u001b[0m                                 Traceback (most recent call last)",
      "\u001b[1;32m<ipython-input-70-74c1d9a47f7a>\u001b[0m in \u001b[0;36m<module>\u001b[1;34m\u001b[0m\n\u001b[0;32m      1\u001b[0m \u001b[0mlist1\u001b[0m\u001b[1;33m=\u001b[0m\u001b[1;33m[\u001b[0m\u001b[1;36m4\u001b[0m\u001b[1;33m,\u001b[0m\u001b[1;36m5\u001b[0m\u001b[1;33m,\u001b[0m\u001b[1;34m\"pi\"\u001b[0m\u001b[1;33m]\u001b[0m\u001b[1;33m\u001b[0m\u001b[1;33m\u001b[0m\u001b[0m\n\u001b[0;32m      2\u001b[0m \u001b[1;33m\u001b[0m\u001b[0m\n\u001b[1;32m----> 3\u001b[1;33m \u001b[0mlist2\u001b[0m\u001b[1;33m=\u001b[0m\u001b[0mlist1\u001b[0m\u001b[1;33m+\u001b[0m\u001b[1;36m5\u001b[0m\u001b[1;33m+\u001b[0m\u001b[1;34m\"hello\"\u001b[0m \u001b[1;31m#TypeError: can only concatenate list (not \"int\") to list\u001b[0m\u001b[1;33m\u001b[0m\u001b[1;33m\u001b[0m\u001b[0m\n\u001b[0m\u001b[0;32m      4\u001b[0m \u001b[1;33m\u001b[0m\u001b[0m\n\u001b[0;32m      5\u001b[0m \u001b[0mprint\u001b[0m\u001b[1;33m(\u001b[0m\u001b[0mlist2\u001b[0m\u001b[1;33m)\u001b[0m\u001b[1;33m\u001b[0m\u001b[1;33m\u001b[0m\u001b[0m\n",
      "\u001b[1;31mTypeError\u001b[0m: can only concatenate list (not \"int\") to list"
     ]
    }
   ],
   "source": [
    "list1=[4,5,\"pi\"]\n",
    "\n",
    "list2=list1+5+\"hello\" #TypeError: can only concatenate list (not \"int\") to list\n",
    "\n",
    "print(list2)"
   ]
  },
  {
   "cell_type": "code",
   "execution_count": 75,
   "metadata": {},
   "outputs": [
    {
     "name": "stdout",
     "output_type": "stream",
     "text": [
      "[1, 53, 75, 19, 37, 85]\n",
      "['gre', 'gre', 'gre']\n"
     ]
    }
   ],
   "source": [
    "rugby = [1, 53, 75]\n",
    "\n",
    "print(rugby + [19, 37, 85]) #extend a list\n",
    "\n",
    "print([\"gre\"] * 3) #repetition of list "
   ]
  },
  {
   "cell_type": "markdown",
   "metadata": {},
   "source": [
    "# How to remove or delete elements in a list"
   ]
  },
  {
   "cell_type": "code",
   "execution_count": 73,
   "metadata": {},
   "outputs": [
    {
     "name": "stdout",
     "output_type": "stream",
     "text": [
      "['A', 'B', 'D', 'E', 'F']\n",
      "['A', 'E', 'F']\n"
     ]
    },
    {
     "ename": "NameError",
     "evalue": "name 'my_list' is not defined",
     "output_type": "error",
     "traceback": [
      "\u001b[1;31m---------------------------------------------------------------------------\u001b[0m",
      "\u001b[1;31mNameError\u001b[0m                                 Traceback (most recent call last)",
      "\u001b[1;32m<ipython-input-73-e332fa9d286e>\u001b[0m in \u001b[0;36m<module>\u001b[1;34m\u001b[0m\n\u001b[0;32m     14\u001b[0m \u001b[1;32mdel\u001b[0m \u001b[0mnewlist\u001b[0m\u001b[1;33m\u001b[0m\u001b[1;33m\u001b[0m\u001b[0m\n\u001b[0;32m     15\u001b[0m \u001b[1;33m\u001b[0m\u001b[0m\n\u001b[1;32m---> 16\u001b[1;33m \u001b[0mprint\u001b[0m\u001b[1;33m(\u001b[0m\u001b[0mmy_list\u001b[0m\u001b[1;33m)\u001b[0m \u001b[1;31m#NameError: name 'my_list' is not defined\u001b[0m\u001b[1;33m\u001b[0m\u001b[1;33m\u001b[0m\u001b[0m\n\u001b[0m",
      "\u001b[1;31mNameError\u001b[0m: name 'my_list' is not defined"
     ]
    }
   ],
   "source": [
    "newlist = ['A','B','C','D','E','F']\n",
    "\n",
    "# delete one item\n",
    "del newlist[2]\n",
    "\n",
    "print(newlist)\n",
    "\n",
    "# delete multiple items\n",
    "del newlist[1:3]  #elements at index 1 & 2\n",
    "\n",
    "print(newlist)\n",
    "\n",
    "# delete entire list\n",
    "del newlist       \n",
    "\n",
    "print(my_list) #NameError: name 'my_list' is not defined"
   ]
  },
  {
   "cell_type": "code",
   "execution_count": 79,
   "metadata": {},
   "outputs": [
    {
     "name": "stdout",
     "output_type": "stream",
     "text": [
      "[77, 88, 66, 33, 'm', 'p', 'r']\n",
      "88\n",
      "[77, 66, 33, 'm', 'p', 'r']\n",
      "r\n",
      "[77, 66, 33, 'm', 'p']\n",
      "[]\n"
     ]
    }
   ],
   "source": [
    "newl = [77,88,66,33,'hi','m','p','r']\n",
    "newl.remove('hi') #remove method for item removal\n",
    "\n",
    "print(newl)\n",
    "\n",
    "print(newl.pop(1)) #element at index 1\n",
    "print(newl)\n",
    "\n",
    "print(newl.pop()) #pop last element in list & print element at last index - 'r'\n",
    "\n",
    "print(newl) #print list\n",
    "\n",
    "newl.clear() #to empty a list\n",
    "\n",
    "print(newl) #empty list"
   ]
  },
  {
   "cell_type": "markdown",
   "metadata": {},
   "source": [
    "# List Methods in Python 3"
   ]
  },
  {
   "cell_type": "code",
   "execution_count": 126,
   "metadata": {},
   "outputs": [
    {
     "name": "stdout",
     "output_type": "stream",
     "text": [
      "[4, 6, 7, 8]\n",
      "append([2,3,4]\n",
      "[4, 6, 7, 8, [2, 3, 4]]\n",
      "remove([2,3,4]\n",
      "[4, 6, 7, 8, [2, 3, 4]]\n",
      "[4, 6, 7, 8]\n",
      "extend([2,3,4]\n",
      "[4, 6, 7, 8, 2, 3, 4]\n",
      "insert 99 at index 6\n",
      "[4, 6, 7, 8, 2, 3, 99, 4]\n",
      "remove 7 \n",
      "[4, 6, 8, 2, 3, 99, 4]\n",
      "pop element at index,3\n",
      "[4, 6, 8, 3, 99, 4]\n",
      "returns the index of first match of value 99\n",
      "4\n",
      "Type <class 'list'>\n",
      "[4, 6, 8, 3, 99, 4]\n",
      "reverse the order of elements in list\n",
      "[4, 99, 3, 8, 6, 4]\n",
      "Sort list in ascending order\n",
      "[3, 4, 4, 6, 8, 99]\n",
      "Cleared list\n",
      "[]\n"
     ]
    }
   ],
   "source": [
    "listt=[4,6,7,8]\n",
    "print(listt)\n",
    "listt.append([2,3,4])\n",
    "print(\"append([2,3,4]\")\n",
    "print(listt)\n",
    "\n",
    "print(\"remove([2,3,4]\")\n",
    "print(listt)\n",
    "listt.remove([2,3,4])\n",
    "print(listt)\n",
    "\n",
    "print(\"extend([2,3,4]\")\n",
    "listt.extend([2,3,4])\n",
    "print(listt)\n",
    "\n",
    "print(\"insert 99 at index 6\")\n",
    "listt.insert(6,99) #doesnt delete an element instead push it\n",
    "print(listt)\n",
    "\n",
    "\n",
    "print(\"remove 7 \")\n",
    "listt.remove(7) #remove element of value 7 from list\n",
    "print(listt)\n",
    "\n",
    "\n",
    "print(\"pop element at index,3\")\n",
    "listt.pop(3) #remove element at index 3 from list\n",
    "print(listt)\n",
    "\n",
    "\n",
    "print(\"returns the index of first match of value 99\")\n",
    "print(listt.index(99)) \n",
    "\n",
    "print(\"Type\", type(listt))\n",
    "\n",
    "print(listt)\n",
    "print(\"reverse the order of elements in list\")\n",
    "listt.reverse()\n",
    "print(listt)\n",
    "\n",
    "\n",
    "print(\"Sort list in ascending order\")\n",
    "listt.sort()\n",
    "print(listt)\n",
    "\n",
    "print(\"Cleared list\")\n",
    "listt.clear()\n",
    "print(listt)\n",
    "\n"
   ]
  },
  {
   "cell_type": "markdown",
   "metadata": {},
   "source": [
    "# Additional Operations on List in Python 3"
   ]
  },
  {
   "cell_type": "code",
   "execution_count": 127,
   "metadata": {},
   "outputs": [
    {
     "name": "stdout",
     "output_type": "stream",
     "text": [
      "True\n",
      "True\n",
      "False\n"
     ]
    }
   ],
   "source": [
    "list1 = [45,67,89,90,199]\n",
    "\n",
    "print(45 in list1)\n",
    "\n",
    "print(46 not in list1)\n",
    "\n",
    "print(1 in list1)\n"
   ]
  },
  {
   "cell_type": "code",
   "execution_count": 129,
   "metadata": {},
   "outputs": [
    {
     "name": "stdout",
     "output_type": "stream",
     "text": [
      "I like Maruti\n",
      "I like HyundaiTesla\n",
      "I like Ford\n"
     ]
    }
   ],
   "source": [
    "for car in ['Maruti','Hyundai''Tesla','Ford']:\n",
    "    print(\"I like\",car)"
   ]
  },
  {
   "cell_type": "code",
   "execution_count": null,
   "metadata": {},
   "outputs": [],
   "source": [
    "\n",
    "sorted()\tReturn a new sorted list (does not sort the list itself).\n",
    "sum()\tReturn the sum of all elements in the list."
   ]
  },
  {
   "cell_type": "code",
   "execution_count": 142,
   "metadata": {},
   "outputs": [
    {
     "name": "stdout",
     "output_type": "stream",
     "text": [
      "True\n"
     ]
    }
   ],
   "source": [
    "print(all([4,-5,6])) #check if all list elements are true or if list is empty"
   ]
  },
  {
   "cell_type": "code",
   "execution_count": 141,
   "metadata": {},
   "outputs": [
    {
     "name": "stdout",
     "output_type": "stream",
     "text": [
      "True\n"
     ]
    }
   ],
   "source": [
    "print(any([0,9,-1])) #check if any list element is true or if list is empty"
   ]
  },
  {
   "cell_type": "code",
   "execution_count": 143,
   "metadata": {},
   "outputs": [
    {
     "name": "stdout",
     "output_type": "stream",
     "text": [
      "True\n"
     ]
    }
   ],
   "source": [
    "print(all([]))"
   ]
  },
  {
   "cell_type": "code",
   "execution_count": 147,
   "metadata": {},
   "outputs": [
    {
     "name": "stdout",
     "output_type": "stream",
     "text": [
      "False\n"
     ]
    }
   ],
   "source": [
    "print(any([]))"
   ]
  },
  {
   "cell_type": "code",
   "execution_count": 148,
   "metadata": {},
   "outputs": [
    {
     "data": {
      "text/plain": [
       "3"
      ]
     },
     "execution_count": 148,
     "metadata": {},
     "output_type": "execute_result"
    }
   ],
   "source": [
    "list1=[3,4,5] #number of items in list\n",
    "len(list1)"
   ]
  },
  {
   "cell_type": "code",
   "execution_count": 151,
   "metadata": {},
   "outputs": [
    {
     "data": {
      "text/plain": [
       "(5, 3)"
      ]
     },
     "execution_count": 151,
     "metadata": {},
     "output_type": "execute_result"
    }
   ],
   "source": [
    "list1=[3,4,5] # items in list\n",
    "max(list1),min(list1) #max-min values"
   ]
  },
  {
   "cell_type": "code",
   "execution_count": 158,
   "metadata": {},
   "outputs": [
    {
     "name": "stdout",
     "output_type": "stream",
     "text": [
      "[34, 5, 6, 45, 13] \n",
      " [5, 6, 13, 34, 45]\n",
      "-----------\n",
      "[34, 56, 7, 89, 10]\n",
      "[7, 10, 34, 56, 89]\n"
     ]
    }
   ],
   "source": [
    "list1=[34,5,6,45,13]\n",
    "list2=sorted(list1) #it will return new list\n",
    "print(list1,\"\\n\",list2)\n",
    "\n",
    "print(\"-----------\")\n",
    "list3=[34,56,7,89,10]\n",
    "print(list3)\n",
    "list3.sort() #it will sort original list\n",
    "print(list3)"
   ]
  },
  {
   "cell_type": "code",
   "execution_count": 137,
   "metadata": {},
   "outputs": [
    {
     "name": "stdout",
     "output_type": "stream",
     "text": [
      "['N', 'V', 'I', 'D', 'I', 'A'] <class 'list'>\n"
     ]
    }
   ],
   "source": [
    "mylist=list(\"NVIDIA\") #explicit type conversion from (tuple, string, set, dictionary) to a list.\n",
    "print(mylist,type(mylist))"
   ]
  },
  {
   "cell_type": "code",
   "execution_count": 134,
   "metadata": {},
   "outputs": [
    {
     "name": "stdout",
     "output_type": "stream",
     "text": [
      "[1, 2, 4, 8, 16]\n"
     ]
    }
   ],
   "source": [
    "high = [2 ** z for z in range(10) if z < 5] #will range from 0 to 4\n",
    "print(high)"
   ]
  },
  {
   "cell_type": "code",
   "execution_count": 136,
   "metadata": {},
   "outputs": [
    {
     "name": "stdout",
     "output_type": "stream",
     "text": [
      "[0, 2, 4, 6, 8]\n",
      "<class 'list'>\n"
     ]
    }
   ],
   "source": [
    "high = [2*z for z in range(10) if z < 5] #will range from 0 to 4\n",
    "print(high)\n",
    "print(type(high))"
   ]
  }
 ],
 "metadata": {
  "kernelspec": {
   "display_name": "Python 3",
   "language": "python",
   "name": "python3"
  },
  "language_info": {
   "codemirror_mode": {
    "name": "ipython",
    "version": 3
   },
   "file_extension": ".py",
   "mimetype": "text/x-python",
   "name": "python",
   "nbconvert_exporter": "python",
   "pygments_lexer": "ipython3",
   "version": "3.7.1"
  }
 },
 "nbformat": 4,
 "nbformat_minor": 2
}
